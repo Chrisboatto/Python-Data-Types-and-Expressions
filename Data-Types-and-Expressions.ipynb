{
 "cells": [
  {
   "cell_type": "code",
   "execution_count": 58,
   "metadata": {},
   "outputs": [
    {
     "name": "stdout",
     "output_type": "stream",
     "text": [
      "2019\n",
      "53.908\n",
      "106.079\n",
      "Waskesiu CFB\n",
      "40\n",
      "<class 'int'>\n",
      "<class 'float'>\n",
      "<class 'float'>\n",
      "<class 'str'>\n",
      "<class 'int'>\n"
     ]
    }
   ],
   "source": [
    "## Question 1\n",
    "\n",
    "# A\n",
    "\n",
    "import pandas as pd\n",
    "\n",
    "Fires = [1, 2, 3, 4]\n",
    "\n",
    "data = {'Year': (2019, 2019, 2018, 2018),\n",
    "        'Latitude': (53.908, 53.9714, 53.908, 53.959),\n",
    "        'Longitude': (106.079,  106.1311, 106.079, 106.519),\n",
    "        'Fire Name': ('Waskesiu CFB',  'Birch Bay', 'Waskesiu CFB', 'Wasstrom’s Flats'),\n",
    "        'Burned Area in (ha)' : (40,  0.1, 'unknown', 834)\n",
    "       }\n",
    "\n",
    "df = pd.DataFrame(data=data, index=Fires)\n",
    "\n",
    "Year = 2019\n",
    "Latitude = 53.908\n",
    "Longitude = 106.079\n",
    "FireName = \"Waskesiu CFB\"\n",
    "BurnedArea = 40\n",
    "\n",
    "print(Year)\n",
    "print(Latitude)\n",
    "print(Longitude)\n",
    "print(FireName)\n",
    "print(BurnedArea)\n",
    "print(type(Year))\n",
    "print(type(Latitude))\n",
    "print(type(Longitude))\n",
    "print(type(FireName))\n",
    "print(type(BurnedArea))"
   ]
  },
  {
   "cell_type": "code",
   "execution_count": 3,
   "metadata": {},
   "outputs": [
    {
     "data": {
      "text/plain": [
       "40.0"
      ]
     },
     "execution_count": 3,
     "metadata": {},
     "output_type": "execute_result"
    }
   ],
   "source": [
    "# B\n",
    "\n",
    "float(BurnedArea)"
   ]
  },
  {
   "cell_type": "code",
   "execution_count": null,
   "metadata": {},
   "outputs": [],
   "source": [
    "# C\n",
    "\n",
    "# i: Fire_Name"
   ]
  },
  {
   "cell_type": "code",
   "execution_count": 22,
   "metadata": {},
   "outputs": [
    {
     "name": "stdout",
     "output_type": "stream",
     "text": [
      "Waskesui CFB \n",
      " Birch Bay \n",
      " Wasstrom's Flat\n"
     ]
    }
   ],
   "source": [
    "# D\n",
    "\n",
    "Fire_Name = \"Waskesui CFB \\n Birch Bay \\n Wasstrom\\'s Flat\"\n",
    "print(Fire_Name)"
   ]
  },
  {
   "cell_type": "code",
   "execution_count": 25,
   "metadata": {},
   "outputs": [
    {
     "name": "stdout",
     "output_type": "stream",
     "text": [
      "40\n",
      "45\n",
      "50\n"
     ]
    }
   ],
   "source": [
    "## Question 2\n",
    "\n",
    "# A\n",
    "\n",
    "BurnedArea1 = BurnedArea = 40\n",
    "print(BurnedArea1)\n",
    "\n",
    "BurnedArea = BurnedArea + 5\n",
    "print(BurnedArea)\n",
    "\n",
    "BurnedArea = BurnedArea1 +10\n",
    "print(BurnedArea)"
   ]
  },
  {
   "cell_type": "code",
   "execution_count": 31,
   "metadata": {},
   "outputs": [
    {
     "name": "stdout",
     "output_type": "stream",
     "text": [
      "40000\n",
      "50000\n"
     ]
    }
   ],
   "source": [
    "# B\n",
    "\n",
    "hectare_to_meter = 1000\n",
    "\n",
    "BurnedArea = BurnedArea * hectare_to_meter\n",
    "BurnedArea1 = BurnedArea1 * hectare_to_meter\n",
    "\n",
    "print(BurnedArea1)\n",
    "\n",
    "print(BurnedArea)"
   ]
  },
  {
   "cell_type": "code",
   "execution_count": 40,
   "metadata": {},
   "outputs": [
    {
     "name": "stdout",
     "output_type": "stream",
     "text": [
      "291.3666666666667\n"
     ]
    }
   ],
   "source": [
    "# C\n",
    "\n",
    "Burned_Area_ha = [40, 0.1, 'unkown', 834]\n",
    "\n",
    "Burned_Area_ha.remove('unkown')\n",
    "\n",
    "avg_burned_area = sum(Burned_Area_ha) / len(Burned_Area_ha)\n",
    "print(avg_burned_area)"
   ]
  },
  {
   "cell_type": "code",
   "execution_count": 42,
   "metadata": {},
   "outputs": [
    {
     "data": {
      "text/plain": [
       "291.37"
      ]
     },
     "execution_count": 42,
     "metadata": {},
     "output_type": "execute_result"
    }
   ],
   "source": [
    "# D\n",
    "\n",
    "round(avg_burned_area, 2)"
   ]
  },
  {
   "cell_type": "code",
   "execution_count": 45,
   "metadata": {},
   "outputs": [
    {
     "name": "stdout",
     "output_type": "stream",
     "text": [
      "2.9E+02\n"
     ]
    }
   ],
   "source": [
    "# E\n",
    "\n",
    "scientific_notation = \"{:.1E}\".format(avg_burned_area)\n",
    "print(scientific_notation)"
   ]
  },
  {
   "cell_type": "code",
   "execution_count": 48,
   "metadata": {},
   "outputs": [
    {
     "data": {
      "text/plain": [
       "10.0"
      ]
     },
     "execution_count": 48,
     "metadata": {},
     "output_type": "execute_result"
    }
   ],
   "source": [
    "## Question 3\n",
    "\n",
    "# A\n",
    "\n",
    "import math as math\n",
    "\n",
    "Year = 2019\n",
    "Latitude = 53.9714\n",
    "Longitude = 106.1311\n",
    "FireName = \"Birch Bay\"\n",
    "BurnedArea = 0.1\n",
    "\n",
    "BurnedArea = BurnedArea * hectare_to_meter\n",
    "\n",
    "math.sqrt(BurnedArea)"
   ]
  },
  {
   "cell_type": "code",
   "execution_count": 70,
   "metadata": {},
   "outputs": [
    {
     "name": "stdout",
     "output_type": "stream",
     "text": [
      "Requirement already satisfied: GeoPy in /opt/conda/lib/python3.7/site-packages (2.1.0)\n",
      "Requirement already satisfied: geographiclib<2,>=1.49 in /opt/conda/lib/python3.7/site-packages (from GeoPy) (1.50)\n",
      "7.842367743685305 km\n"
     ]
    }
   ],
   "source": [
    "# B\n",
    "import sys\n",
    "!{sys.executable} -m pip install GeoPy\n",
    "from geopy import distance\n",
    "\n",
    "from geopy.distance import geodesic\n",
    "\n",
    "coorWask = (53.908, 106.079)\n",
    "coorBirch = (53.9714, 106.1311)\n",
    "dist_of_Fires = distance.geodesic(coorWask, coorBirch)\n",
    "print(dist_of_Fires)\n"
   ]
  },
  {
   "cell_type": "code",
   "execution_count": 72,
   "metadata": {},
   "outputs": [
    {
     "name": "stdout",
     "output_type": "stream",
     "text": [
      "102.26582930748172 km\n"
     ]
    }
   ],
   "source": [
    "# C\n",
    "\n",
    "coorWasstrom = (53.595,106.519)\n",
    "dWaskesiuBirch = distance.geodesic(coorWask,coorBirch)\n",
    "dWaskesiuWasstrom = distance.geodesic(coorWask,coorWasstrom)\n",
    "dWasstromBirch = distance.geodesic(coorWasstrom,coorBirch)\n",
    "\n",
    "perimeter = dWaskesiuBirch + dWaskesiuWasstrom + dWasstromBirch\n",
    "print(perimeter)"
   ]
  },
  {
   "cell_type": "code",
   "execution_count": 73,
   "metadata": {},
   "outputs": [
    {
     "name": "stdout",
     "output_type": "stream",
     "text": [
      "40 0.1\n",
      "0.1 40\n"
     ]
    }
   ],
   "source": [
    "BBurnedArea = 40\n",
    "WBurnedArea = 0.1\n",
    "print(BBurnedArea,WBurnedArea)\n",
    "WBurnedArea,BBurnedArea = BBurnedArea,WBurnedArea\n",
    "print(BBurnedArea,WBurnedArea)"
   ]
  },
  {
   "cell_type": "code",
   "execution_count": null,
   "metadata": {},
   "outputs": [],
   "source": []
  }
 ],
 "metadata": {
  "kernelspec": {
   "display_name": "Python 3",
   "language": "python",
   "name": "python3"
  },
  "language_info": {
   "codemirror_mode": {
    "name": "ipython",
    "version": 3
   },
   "file_extension": ".py",
   "mimetype": "text/x-python",
   "name": "python",
   "nbconvert_exporter": "python",
   "pygments_lexer": "ipython3",
   "version": "3.7.6"
  }
 },
 "nbformat": 4,
 "nbformat_minor": 4
}
